{
 "cells": [
  {
   "cell_type": "code",
   "execution_count": 2,
   "metadata": {},
   "outputs": [],
   "source": [
    "import numpy as np\n",
    "from sklearn.preprocessing import Imputer"
   ]
  },
  {
   "cell_type": "code",
   "execution_count": 3,
   "metadata": {},
   "outputs": [],
   "source": [
    "X = [\n",
    "    [2, 2, 4, 1],\n",
    "    [np.nan, 3, 4, 4],\n",
    "    [1, 1, 1, np.nan],\n",
    "    [2, 2, np.nan, 3]\n",
    "]\n",
    "X2 = [\n",
    "    [2, 6, np.nan, 1],\n",
    "    [np.nan, 5, np.nan, 1],\n",
    "    [4, 1, np.nan, 5],\n",
    "    [np.nan, np.nan, np.nan, 1]\n",
    "]"
   ]
  },
  {
   "cell_type": "code",
   "execution_count": 4,
   "metadata": {},
   "outputs": [
    {
     "name": "stdout",
     "output_type": "stream",
     "text": [
      "按照列填充策略： [1.66666667 2.         3.         2.66666667]\n"
     ]
    }
   ],
   "source": [
    "# 按照列进行填充值的计算\n",
    "imp1 = Imputer(missing_values='NaN', strategy='mean', axis=0)\n",
    "# 按照行计算填充值（如果按照行进行填充的话，那么是不需要进行模型fit的，直接使用X的现有的行信息进行填充的）-- 一般不用\n",
    "imp2 = Imputer(missing_values='NaN', strategy='mean', axis=1)\n",
    "\n",
    "imp1.fit(X)\n",
    "imp2.fit(X)\n",
    "\n",
    "print(\"按照列填充策略：\", imp1.statistics_)"
   ]
  },
  {
   "cell_type": "code",
   "execution_count": 5,
   "metadata": {},
   "outputs": [
    {
     "name": "stdout",
     "output_type": "stream",
     "text": [
      "[[2.         6.         3.         1.        ]\n",
      " [1.66666667 5.         3.         1.        ]\n",
      " [4.         1.         3.         5.        ]\n",
      " [1.66666667 2.         3.         1.        ]]\n",
      "--------------------------\n",
      "[[2.         6.         3.         1.        ]\n",
      " [3.         5.         3.         1.        ]\n",
      " [4.         1.         3.33333333 5.        ]\n",
      " [1.         1.         1.         1.        ]]\n"
     ]
    }
   ],
   "source": [
    "print (imp1.transform(X2))\n",
    "print (\"--------------------------\")\n",
    "print (imp2.transform(X2))"
   ]
  },
  {
   "cell_type": "code",
   "execution_count": 6,
   "metadata": {},
   "outputs": [
    {
     "data": {
      "text/plain": [
       "Imputer(axis=0, copy=True, missing_values='NaN', strategy='most_frequent',\n",
       "    verbose=0)"
      ]
     },
     "execution_count": 6,
     "metadata": {},
     "output_type": "execute_result"
    }
   ],
   "source": [
    "imp1 = Imputer(missing_values='NaN', strategy='mean', axis=0)\n",
    "imp2 = Imputer(missing_values='NaN', strategy='median', axis=0)\n",
    "imp3 = Imputer(missing_values='NaN', strategy='most_frequent', axis=0)\n",
    "imp1.fit(X)\n",
    "imp2.fit(X)\n",
    "imp3.fit(X)"
   ]
  },
  {
   "cell_type": "code",
   "execution_count": 7,
   "metadata": {},
   "outputs": [
    {
     "name": "stdout",
     "output_type": "stream",
     "text": [
      "--------------------------\n",
      "[[2.         6.         3.         1.        ]\n",
      " [1.66666667 5.         3.         1.        ]\n",
      " [4.         1.         3.         5.        ]\n",
      " [1.66666667 2.         3.         1.        ]]\n",
      "--------------------------\n",
      "[[2. 6. 4. 1.]\n",
      " [2. 5. 4. 1.]\n",
      " [4. 1. 4. 5.]\n",
      " [2. 2. 4. 1.]]\n",
      "--------------------------\n",
      "[[2. 6. 4. 1.]\n",
      " [2. 5. 4. 1.]\n",
      " [4. 1. 4. 5.]\n",
      " [2. 2. 4. 1.]]\n"
     ]
    }
   ],
   "source": [
    "print (\"--------------------------\")\n",
    "print (imp1.transform(X2))\n",
    "print (\"--------------------------\")\n",
    "print (imp2.transform(X2))\n",
    "print (\"--------------------------\")\n",
    "print (imp3.transform(X2))"
   ]
  },
  {
   "cell_type": "code",
   "execution_count": null,
   "metadata": {},
   "outputs": [],
   "source": []
  }
 ],
 "metadata": {
  "kernelspec": {
   "display_name": "Python 3",
   "language": "python",
   "name": "python3"
  },
  "language_info": {
   "codemirror_mode": {
    "name": "ipython",
    "version": 3
   },
   "file_extension": ".py",
   "mimetype": "text/x-python",
   "name": "python",
   "nbconvert_exporter": "python",
   "pygments_lexer": "ipython3",
   "version": "3.7.3"
  }
 },
 "nbformat": 4,
 "nbformat_minor": 2
}
