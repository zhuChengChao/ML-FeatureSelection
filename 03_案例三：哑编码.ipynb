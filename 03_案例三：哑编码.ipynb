{
 "cells": [
  {
   "cell_type": "code",
   "execution_count": 2,
   "metadata": {},
   "outputs": [],
   "source": [
    "import numpy as np\n",
    "\n",
    "from sklearn.preprocessing import OneHotEncoder\n",
    "from sklearn.feature_extraction import DictVectorizer"
   ]
  },
  {
   "cell_type": "code",
   "execution_count": 3,
   "metadata": {},
   "outputs": [
    {
     "name": "stdout",
     "output_type": "stream",
     "text": [
      "[[0 0 3]\n",
      " [1 1 0]\n",
      " [0 2 1]\n",
      " [1 0 2]\n",
      " [1 1 1]]\n",
      "编码结果 [2 3 4]\n"
     ]
    }
   ],
   "source": [
    "# OneHotEncoder要求数据类别必须是数值的\n",
    "enc = OneHotEncoder()\n",
    "a = np.array([[0, 0, 3], [1, 1, 0], [0, 2, 1], [1, 0, 2], [1, 1, 1]])\n",
    "enc.fit(a) \n",
    "print(a)\n",
    "print(\"编码结果\",enc.n_values_)"
   ]
  },
  {
   "cell_type": "code",
   "execution_count": 4,
   "metadata": {},
   "outputs": [
    {
     "data": {
      "text/plain": [
       "array([[1., 0., 0., 1., 0., 0., 0., 1., 0.]])"
      ]
     },
     "execution_count": 4,
     "metadata": {},
     "output_type": "execute_result"
    }
   ],
   "source": [
    "enc.transform([[0, 1, 2]]).toarray()"
   ]
  },
  {
   "cell_type": "code",
   "execution_count": 5,
   "metadata": {},
   "outputs": [
    {
     "name": "stdout",
     "output_type": "stream",
     "text": [
      "D的转化结果：\n",
      " [[2.2 0.  1. ]\n",
      " [0.  2.  3. ]]\n",
      "特征： ['bar', 'baz', 'foo']\n",
      "{'foo':4, 'unseen':3}转换结果:\n",
      " [[0. 0. 4.]]\n"
     ]
    }
   ],
   "source": [
    "# sparse：最终产生的结果是否是稀疏化矩阵，默认为True，一般不改动\n",
    "dv = DictVectorizer(sparse=False)\n",
    "D = [{'foo':1, 'bar':2.2}, {'foo':3, 'baz': 2}]\n",
    "X = dv.fit_transform(D)\n",
    "print(\"D的转化结果：\\n\", X)\n",
    "# 直接把字典中的key作为特征，value作为特征值，然后构建特征矩阵\n",
    "print (\"特征：\", dv.get_feature_names())\n",
    "print (\"{'foo':4, 'unseen':3}转换结果:\\n\", dv.transform({'foo':4, 'unseen':3}))"
   ]
  },
  {
   "cell_type": "code",
   "execution_count": 6,
   "metadata": {},
   "outputs": [
    {
     "data": {
      "text/plain": [
       "array([[-1.,  2., -4.],\n",
       "       [-2., -5.,  0.]])"
      ]
     },
     "execution_count": 6,
     "metadata": {},
     "output_type": "execute_result"
    }
   ],
   "source": [
    "from sklearn.feature_extraction import FeatureHasher\n",
    "\n",
    "h = FeatureHasher(n_features=3)\n",
    "D = [{'dog': 1, 'cat':2, 'elephant':4},{'dog': 2, 'run': 5}]\n",
    "# 直接以hash值计算结果 -- 该方式一般不用\n",
    "f = h.transform(D)\n",
    "f.toarray()"
   ]
  },
  {
   "cell_type": "code",
   "execution_count": null,
   "metadata": {},
   "outputs": [],
   "source": []
  }
 ],
 "metadata": {
  "kernelspec": {
   "display_name": "Python 3",
   "language": "python",
   "name": "python3"
  },
  "language_info": {
   "codemirror_mode": {
    "name": "ipython",
    "version": 3
   },
   "file_extension": ".py",
   "mimetype": "text/x-python",
   "name": "python",
   "nbconvert_exporter": "python",
   "pygments_lexer": "ipython3",
   "version": "3.7.3"
  }
 },
 "nbformat": 4,
 "nbformat_minor": 2
}
